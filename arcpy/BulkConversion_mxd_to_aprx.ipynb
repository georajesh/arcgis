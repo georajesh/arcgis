{
 "cells": [
  {
   "cell_type": "markdown",
   "id": "dd833e10",
   "metadata": {},
   "source": [
    "### 1️⃣ Convert MXD Files to APRX Projects"
   ]
  },
  {
   "cell_type": "code",
   "execution_count": null,
   "id": "6e799081",
   "metadata": {},
   "outputs": [],
   "source": [
    "import arcpy\n",
    "import os\n",
    "\n",
    "mxd_folder = r\"GIS\\arcpy\"\n",
    "output_folder = r\"ConvertedFiles\"\n",
    "template_aprx = r\"base.aprx\"\n",
    "\n",
    "if not os.path.exists(output_folder):\n",
    "    os.makedirs(output_folder)\n",
    "\n",
    "arcpy.env.workspace = mxd_folder\n",
    "mxds = arcpy.ListFiles(\"*.mxd\")\n",
    "\n",
    "for mxd_name in mxds:\n",
    "    try:\n",
    "        mxd_path = os.path.join(mxd_folder, mxd_name)\n",
    "        aprx_name = os.path.splitext(mxd_name)[0] + \".aprx\"\n",
    "        aprx_path = os.path.join(output_folder, aprx_name)\n",
    "\n",
    "        if os.path.exists(aprx_path):\n",
    "            os.remove(aprx_path)\n",
    "            print(f\"[~] Replaced existing: {aprx_name}\")\n",
    "\n",
    "        # Copy blank base project\n",
    "        aprx_template = arcpy.mp.ArcGISProject(template_aprx)\n",
    "        aprx_template.saveACopy(aprx_path)\n",
    "\n",
    "        # Open and import MXD\n",
    "        aprx = arcpy.mp.ArcGISProject(aprx_path)\n",
    "        aprx.importDocument(mxd_path)\n",
    "\n",
    "        # Create writable native map\n",
    "        new_map = aprx.createMap(\"FinalMap\")\n",
    "\n",
    "        # Copy layers from imported map\n",
    "        for m in aprx.listMaps():\n",
    "            if m.name != \"FinalMap\":\n",
    "                for lyr in m.listLayers():\n",
    "                    new_map.addLayer(lyr)\n",
    "                break\n",
    "\n",
    "        aprx.save()\n",
    "        print(f\"[✓] Converted {mxd_name} to {aprx_name}\")\n",
    "\n",
    "    except Exception as e:\n",
    "        print(f\"[X] Failed to convert {mxd_name}: {e}\")\n"
   ]
  },
  {
   "cell_type": "markdown",
   "id": "4cb3ef89",
   "metadata": {},
   "source": [
    "### 2️⃣ Repair Broken Layer Connections"
   ]
  },
  {
   "cell_type": "code",
   "execution_count": null,
   "id": "024a233e",
   "metadata": {},
   "outputs": [],
   "source": [
    "# Repair broken layers in APRX files\n",
    "# Folder containing APRX files with FinalMap\n",
    "aprx_folder = r\"ConvertedFiles\"\n",
    "data_repair_folder = r\"GIS\\arcpy\"\n",
    "\n",
    "aprx_files = [f for f in os.listdir(aprx_folder) if f.endswith(\".aprx\")]\n",
    "\n",
    "for aprx_name in aprx_files:\n",
    "    try:\n",
    "        aprx_path = os.path.join(aprx_folder, aprx_name)\n",
    "        aprx = arcpy.mp.ArcGISProject(aprx_path)\n",
    "        final_map = aprx.listMaps(\"FinalMap\")[0]\n",
    "\n",
    "        print(f\"\\n🔧 Checking: {aprx_name}\")\n",
    "\n",
    "        for lyr in final_map.listLayers():\n",
    "            if lyr.isBroken:\n",
    "                try:\n",
    "                    for ext in [\".shp\", \"\"]:  # Extend this list for other formats\n",
    "                        guess_path = os.path.join(data_repair_folder, lyr.name + ext)\n",
    "                        if arcpy.Exists(guess_path):\n",
    "                            lyr.updateConnectionProperties(None, guess_path)\n",
    "                            print(f\"    [+] Repaired: {lyr.name} → {guess_path}\")\n",
    "                            break\n",
    "                    else:\n",
    "                        print(f\"    [!] Still broken: {lyr.name}\")\n",
    "                except Exception as e:\n",
    "                    print(f\"    [!] Error repairing {lyr.name}: {e}\")\n",
    "\n",
    "        aprx.save()\n",
    "        print(f\"[✓] Saved repaired: {aprx_name}\")\n",
    "\n",
    "    except Exception as e:\n",
    "        print(f\"[X] Failed to process {aprx_name}: {e}\")\n"
   ]
  }
 ],
 "metadata": {
  "kernelspec": {
   "display_name": "Python 3",
   "language": "python",
   "name": "python3"
  },
  "language_info": {
   "codemirror_mode": {
    "name": "ipython",
    "version": 3
   },
   "file_extension": ".py",
   "mimetype": "text/x-python",
   "name": "python",
   "nbconvert_exporter": "python",
   "pygments_lexer": "ipython3",
   "version": "3.11.10"
  }
 },
 "nbformat": 4,
 "nbformat_minor": 5
}
